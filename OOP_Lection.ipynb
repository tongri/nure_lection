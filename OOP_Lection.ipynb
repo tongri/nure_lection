{
 "cells": [
  {
   "cell_type": "markdown",
   "id": "d4b29094",
   "metadata": {},
   "source": [
    "# Лекція з ООП у Python"
   ]
  },
  {
   "cell_type": "markdown",
   "id": "b47aaea2",
   "metadata": {},
   "source": [
    "## Все що є у Python - об'єкт\n",
    "\n",
    "Python - це об'єктно-орієнтована мова програмування, і все що є у цій мові є об'єктом - функції, строки, списки та інші типи даних зі своїми методами.\n",
    "\n",
    "У Python є вбудована функція `isinstance(object, classinfo)`, яка поветрає `True`, якщо `object` є інстансом (об'єктом) класу `classinfo`, і `False` у протилежному випадку. Тож тезу *у Python все - об'єкт* можно з легкістю перевірити:"
   ]
  },
  {
   "cell_type": "code",
   "execution_count": 1,
   "id": "6dfd6304",
   "metadata": {},
   "outputs": [
    {
     "data": {
      "text/plain": [
       "True"
      ]
     },
     "execution_count": 1,
     "metadata": {},
     "output_type": "execute_result"
    }
   ],
   "source": [
    "a = 5\n",
    "isinstance(a, int)"
   ]
  },
  {
   "cell_type": "code",
   "execution_count": 5,
   "id": "7e8e97a9",
   "metadata": {},
   "outputs": [
    {
     "data": {
      "text/plain": [
       "True"
      ]
     },
     "execution_count": 5,
     "metadata": {},
     "output_type": "execute_result"
    }
   ],
   "source": [
    "b = \"бавовна\"\n",
    "isinstance(b, str)"
   ]
  },
  {
   "cell_type": "markdown",
   "id": "547629da",
   "metadata": {},
   "source": [
    "Що це нам дає? Наприклад, ми можемо вспадкувати вбудований тип даних та перевизначити будь-який метод, проте спершу давайте розберемося з особливостями ООП у Python"
   ]
  },
  {
   "cell_type": "markdown",
   "id": "e89e44db",
   "metadata": {},
   "source": [
    "## Класи і Python\n",
    "\n",
    "Перш за все, як і будь-якій об'єктно-орієнтованій мові програмування, у класі на Python ми можемо визначити атрибути і методи (як класа так і об`єкта):"
   ]
  },
  {
   "cell_type": "code",
   "execution_count": 17,
   "id": "c641fba3",
   "metadata": {},
   "outputs": [
    {
     "name": "stdout",
     "output_type": "stream",
     "text": [
      "This is passenger car Audi RS7 which costs $100000\n"
     ]
    }
   ],
   "source": [
    "class Car:\n",
    "    vehicle_type = \"passenger\"\n",
    "\n",
    "    def __init__(self, name: str, price: int):\n",
    "        self.name = name\n",
    "        self.price = price\n",
    "\n",
    "    def info(self) -> None:\n",
    "        print(f\"This is {self.vehicle_type} car {self.name} which costs ${self.price}\")\n",
    "\n",
    "        \n",
    "audi = Car(\"Audi RS7\", 100_000)\n",
    "\n",
    "audi.info()"
   ]
  },
  {
   "cell_type": "markdown",
   "id": "c10e1b36",
   "metadata": {},
   "source": [
    "Тільки що ми створили та проініцюювали об'єкт класу `Car`.\n",
    "* `__init__` - це конструктор, у якому ми ініціюємо об'єкт. Він викликається автоматично при створенні об'єкта. Це приклад магічного метода, розповідь про які піде нижче\n",
    "* `self` - це вказівник на об'єкт, який викликає метод (як `this` у, наприклад, C++, JS)\n",
    "\n",
    "Ми також дуже просто можемо змінити значення будь-якого атрибута (і навіть метода) або додати новий (додавання нового є не дуже хорошою практикою):"
   ]
  },
  {
   "cell_type": "code",
   "execution_count": 9,
   "id": "0b786733",
   "metadata": {},
   "outputs": [
    {
     "data": {
      "text/plain": [
       "'Audi A5'"
      ]
     },
     "execution_count": 9,
     "metadata": {},
     "output_type": "execute_result"
    }
   ],
   "source": [
    "audi.name = \"Audi A5\"\n",
    "audi.name"
   ]
  },
  {
   "cell_type": "code",
   "execution_count": 10,
   "id": "1075068b",
   "metadata": {},
   "outputs": [
    {
     "data": {
      "text/plain": [
       "50000"
      ]
     },
     "execution_count": 10,
     "metadata": {},
     "output_type": "execute_result"
    }
   ],
   "source": [
    "audi.mileage = 50_000\n",
    "audi.mileage"
   ]
  },
  {
   "cell_type": "markdown",
   "id": "c88043f4",
   "metadata": {},
   "source": [
    "Атрибути і методи класа доступні як для самого класа так і для його об'єкта. Як вже було сказано - все об'єкт у Python, навіть самі класи"
   ]
  },
  {
   "cell_type": "code",
   "execution_count": 13,
   "id": "823bf43b",
   "metadata": {},
   "outputs": [
    {
     "data": {
      "text/plain": [
       "'passenger'"
      ]
     },
     "execution_count": 13,
     "metadata": {},
     "output_type": "execute_result"
    }
   ],
   "source": [
    "Car.vehicle_type"
   ]
  },
  {
   "cell_type": "markdown",
   "id": "11fda3ff",
   "metadata": {},
   "source": [
    "## Парадигми ООП у Python"
   ]
  },
  {
   "cell_type": "markdown",
   "id": "1999d9b8",
   "metadata": {},
   "source": [
    "### Інкапсуляція (відокремлення одних компонентів програми від інших)\n",
    "\n",
    "У Python реалізовано за допомогою одного підкреслення `_` або двох `__` на початку назви атрибута або метода.\n",
    "Щодо цих підкреслень, то між `_` у Python та `protected` у багатьох інших мовах можна провести паралель, як і між `__` та `private` (ті методи, що не мають підкреслення на початку є `public`)\n",
    "\n",
    "Атрибути усіх цих типів є доступними всередині класу. Зовні ж - доступними є `public` та `protected`. Хоча будь-яке нормальне IDE вкаже вам, що виклик `protected` метода зовні є \"bad practice\".\n",
    "\n",
    "Інкапсуляція в Python є доволі умовною і більше є показником для інших розробників, що деякі компоненти краще зовні не викликати.\n",
    "\n",
    "Менше слів більше справ:"
   ]
  },
  {
   "cell_type": "code",
   "execution_count": 30,
   "id": "94103c14",
   "metadata": {},
   "outputs": [],
   "source": [
    "class Person:\n",
    "    def __init__(self, age: int, address: str, money: int):\n",
    "        self.age = age  # public\n",
    "        self._address = address  # protected\n",
    "        self.__money = money  # private\n",
    "\n",
    "    def __has_enough_money(self, check_amount: int) -> bool:  # private method\n",
    "        return self.__money >= check_amount\n",
    "\n",
    "    def show_address(self) -> None:  # public method\n",
    "        print(self._address)\n",
    "\n",
    "    def buy_ticket(self, price: int):  # public method\n",
    "        if self.__has_enough_money(price):\n",
    "            self.__money -= price\n",
    "            print(f\"Bought ticket\")\n",
    "        else:\n",
    "            print(f\"Not enough money\")\n",
    "\n",
    "anton = Person(19, \"Heroiv Pratsi 1\", 10)"
   ]
  },
  {
   "cell_type": "code",
   "execution_count": 31,
   "id": "4d949664",
   "metadata": {},
   "outputs": [
    {
     "name": "stdout",
     "output_type": "stream",
     "text": [
      "Heroiv Pratsi 1\n"
     ]
    }
   ],
   "source": [
    "anton.show_address()"
   ]
  },
  {
   "cell_type": "code",
   "execution_count": 32,
   "id": "0dfd2586",
   "metadata": {},
   "outputs": [
    {
     "data": {
      "text/plain": [
       "(19, 'Heroiv Pratsi 1')"
      ]
     },
     "execution_count": 32,
     "metadata": {},
     "output_type": "execute_result"
    }
   ],
   "source": [
    "anton.age, anton._address"
   ]
  },
  {
   "cell_type": "markdown",
   "id": "489cedbc",
   "metadata": {},
   "source": [
    "Як бачите, з `public` та `protected` ніяких проблем, якщо викликати як зовні так і зсередини класу.\n",
    "Давайте подивимось на `private`"
   ]
  },
  {
   "cell_type": "code",
   "execution_count": 33,
   "id": "a3580493",
   "metadata": {},
   "outputs": [
    {
     "name": "stdout",
     "output_type": "stream",
     "text": [
      "Bought ticket\n"
     ]
    }
   ],
   "source": [
    "anton.buy_ticket(7)"
   ]
  },
  {
   "cell_type": "markdown",
   "id": "aaff8b5a",
   "metadata": {},
   "source": [
    "Купили квиток, тепер спробуємо переглянути скільки ж в Антона залишилось грошей"
   ]
  },
  {
   "cell_type": "code",
   "execution_count": 34,
   "id": "680694af",
   "metadata": {},
   "outputs": [
    {
     "ename": "AttributeError",
     "evalue": "'Person' object has no attribute '__money'",
     "output_type": "error",
     "traceback": [
      "\u001b[0;31m---------------------------------------------------------------------------\u001b[0m",
      "\u001b[0;31mAttributeError\u001b[0m                            Traceback (most recent call last)",
      "Cell \u001b[0;32mIn [34], line 1\u001b[0m\n\u001b[0;32m----> 1\u001b[0m \u001b[43manton\u001b[49m\u001b[38;5;241;43m.\u001b[39;49m\u001b[43m__money\u001b[49m\n",
      "\u001b[0;31mAttributeError\u001b[0m: 'Person' object has no attribute '__money'"
     ]
    }
   ],
   "source": [
    "anton.__money"
   ]
  },
  {
   "cell_type": "markdown",
   "id": "e9e27ef7",
   "metadata": {},
   "source": [
    "Атрибут `__money` є приватним і зовні ми його переглянути/змінити не можемо\n",
    "\n",
    "*Цікавий факт, який допоможе зрозуміти як себе поводяться інкапсульовані атрибути*\n",
    "\n",
    "Насправді, як вже було сказано, інкапсуляція є доволі умовною, і, насправді, інтерпретатор просто змінює назву атрибута, додаючи спочатку підкреслення та назву класа. Використаємо вбудований магічний атрибут `__dict__`, який повертає словник, де ключ - це назва атрибута об'єкта, а значення - це власне що зберігається у атрибуті цього об'єкта "
   ]
  },
  {
   "cell_type": "code",
   "execution_count": 35,
   "id": "02df20ad",
   "metadata": {},
   "outputs": [
    {
     "data": {
      "text/plain": [
       "{'age': 19, '_address': 'Heroiv Pratsi 1', '_Person__money': 3}"
      ]
     },
     "execution_count": 35,
     "metadata": {},
     "output_type": "execute_result"
    }
   ],
   "source": [
    "anton.__dict__"
   ]
  },
  {
   "cell_type": "markdown",
   "id": "cae69d5d",
   "metadata": {},
   "source": [
    "### Спадкування\n",
    "\n",
    "* у Python підтримується множинне спадкування\n",
    "* виклик батьківського метода (або атрибута) у методі спадкоємця за допомогою `super().method(*args, **kwargs)`"
   ]
  },
  {
   "cell_type": "code",
   "execution_count": 41,
   "id": "6bec859c",
   "metadata": {},
   "outputs": [],
   "source": [
    "class Auto:\n",
    "    doors = 4\n",
    "\n",
    "    def __init__(self, max_speed: int):\n",
    "        self.current_speed: int = 0\n",
    "        self.max_speed = max_speed\n",
    "\n",
    "    def increase_speed(self):\n",
    "        self.current_speed = int(min(self.current_speed + self.max_speed * 0.1, self.max_speed))\n",
    "\n",
    "    def drive(self):\n",
    "        print(f\"Driving with speed {self.current_speed}\")\n",
    "\n",
    "\n",
    "class Track(Auto):\n",
    "    doors = 2\n",
    "\n",
    "    def increase_speed(self):\n",
    "        print(f\"Speed before calling super's method is {self.current_speed}\")\n",
    "        super().increase_speed()\n",
    "        print(f\"After is {self.current_speed}\")"
   ]
  },
  {
   "cell_type": "code",
   "execution_count": 42,
   "id": "eca8901c",
   "metadata": {},
   "outputs": [
    {
     "name": "stdout",
     "output_type": "stream",
     "text": [
      "Speed before calling super's method is 0\n",
      "After is 20\n"
     ]
    }
   ],
   "source": [
    "my_track = Track(\"VW\", 200)\n",
    "my_track.increase_speed()"
   ]
  },
  {
   "cell_type": "markdown",
   "id": "e7cb4f6a",
   "metadata": {},
   "source": [
    "А тепер із множинним спадкуванням:"
   ]
  },
  {
   "cell_type": "code",
   "execution_count": 85,
   "id": "f38d600f",
   "metadata": {},
   "outputs": [],
   "source": [
    "class WalkingAnimal:\n",
    "    legs = 4\n",
    "\n",
    "    def walk(self):\n",
    "        print(f\"I can move with {self.legs} legs\")\n",
    "\n",
    "class FlyingAnimal:\n",
    "    wings_length = 1\n",
    "\n",
    "    def fly(self):\n",
    "        print(f\"I can fly with winghs of length {self.wings_length}\")\n",
    "\n",
    "        \n",
    "class Duck(WalkingAnimal, FlyingAnimal):\n",
    "    legs = 2\n",
    "\n",
    "    def fly(self):\n",
    "        print(\"Start flying\")\n",
    "        super().fly()\n",
    "    "
   ]
  },
  {
   "cell_type": "code",
   "execution_count": 86,
   "id": "49d10174",
   "metadata": {},
   "outputs": [
    {
     "name": "stdout",
     "output_type": "stream",
     "text": [
      "I can move with 2 legs\n"
     ]
    }
   ],
   "source": [
    "pretty_duck = Duck()\n",
    "pretty_duck.walk()"
   ]
  },
  {
   "cell_type": "code",
   "execution_count": 99,
   "id": "ebe30202",
   "metadata": {},
   "outputs": [
    {
     "name": "stdout",
     "output_type": "stream",
     "text": [
      "Start flying\n",
      "I can fly with winghs of length 1\n"
     ]
    }
   ],
   "source": [
    "pretty_duck.fly()"
   ]
  },
  {
   "cell_type": "markdown",
   "id": "be0bca65",
   "metadata": {},
   "source": [
    "В Python алгоритм пошуку атрибутів у батьківських класах реалізовано за допомогою Method Resolution Order (коротко MRO). Якщо ваша структура спадкування класів є доволі складно, то ви завжди можете викликати метод `mro()` який поверне список із порядком пошуку атрибутів у класах-батьках:"
   ]
  },
  {
   "cell_type": "code",
   "execution_count": 100,
   "id": "7c963673",
   "metadata": {},
   "outputs": [
    {
     "data": {
      "text/plain": [
       "[__main__.Duck, __main__.WalkingAnimal, __main__.FlyingAnimal, object]"
      ]
     },
     "execution_count": 100,
     "metadata": {},
     "output_type": "execute_result"
    }
   ],
   "source": [
    "Duck.mro()"
   ]
  },
  {
   "cell_type": "markdown",
   "id": "67e2d954",
   "metadata": {},
   "source": [
    "*[детальніше про MRO тут](https://makina-corpus.com/python/python-tutorial-understanding-python-mro-class-search-path)*"
   ]
  },
  {
   "cell_type": "markdown",
   "id": "ed055172",
   "metadata": {},
   "source": [
    "І швидкий приклад спадкування та інкапсуляції"
   ]
  },
  {
   "cell_type": "code",
   "execution_count": 93,
   "id": "c05fb3ee",
   "metadata": {},
   "outputs": [],
   "source": [
    "class Dev:\n",
    "    stack = [\"python\"]\n",
    "    _frameworks = [\"django\", \"fastapi\", \"serverless\"]\n",
    "    __salary = 6_500\n",
    "\n",
    "        \n",
    "class FrontEndDev(Dev):\n",
    "    def print_stack(self):\n",
    "        print(self.stack)\n",
    "\n",
    "    def print_frameworks(self):\n",
    "        print(self._frameworks)\n",
    "\n",
    "    def print_salary(self):\n",
    "        print(self.__salary)"
   ]
  },
  {
   "cell_type": "code",
   "execution_count": 95,
   "id": "7b9ad8ed",
   "metadata": {},
   "outputs": [
    {
     "name": "stdout",
     "output_type": "stream",
     "text": [
      "['python']\n"
     ]
    }
   ],
   "source": [
    "js_dev = FrontEndDev()\n",
    "js_dev.print_stack()"
   ]
  },
  {
   "cell_type": "code",
   "execution_count": 132,
   "id": "99c93691",
   "metadata": {},
   "outputs": [
    {
     "name": "stdout",
     "output_type": "stream",
     "text": [
      "['django', 'fastapi', 'serverless']\n"
     ]
    }
   ],
   "source": [
    "js_dev.print_frameworks()"
   ]
  },
  {
   "cell_type": "code",
   "execution_count": 98,
   "id": "24b8d0f6",
   "metadata": {},
   "outputs": [
    {
     "ename": "AttributeError",
     "evalue": "'FrontEndDev' object has no attribute '_FrontEndDev__salary'",
     "output_type": "error",
     "traceback": [
      "\u001b[0;31m---------------------------------------------------------------------------\u001b[0m",
      "\u001b[0;31mAttributeError\u001b[0m                            Traceback (most recent call last)",
      "Cell \u001b[0;32mIn [98], line 1\u001b[0m\n\u001b[0;32m----> 1\u001b[0m \u001b[43mjs_dev\u001b[49m\u001b[38;5;241;43m.\u001b[39;49m\u001b[43mprint_salary\u001b[49m\u001b[43m(\u001b[49m\u001b[43m)\u001b[49m\n",
      "Cell \u001b[0;32mIn [93], line 15\u001b[0m, in \u001b[0;36mFrontEndDev.print_salary\u001b[0;34m(self)\u001b[0m\n\u001b[1;32m     14\u001b[0m \u001b[38;5;28;01mdef\u001b[39;00m \u001b[38;5;21mprint_salary\u001b[39m(\u001b[38;5;28mself\u001b[39m):\n\u001b[0;32m---> 15\u001b[0m     \u001b[38;5;28mprint\u001b[39m(\u001b[38;5;28;43mself\u001b[39;49m\u001b[38;5;241;43m.\u001b[39;49m\u001b[43m__salary\u001b[49m)\n",
      "\u001b[0;31mAttributeError\u001b[0m: 'FrontEndDev' object has no attribute '_FrontEndDev__salary'"
     ]
    }
   ],
   "source": [
    "js_dev.print_salary()"
   ]
  },
  {
   "cell_type": "markdown",
   "id": "3d902814",
   "metadata": {},
   "source": [
    "Звідси - не успадковуються тільки атрибуту, які починаються з двох підкреслень (`private`)"
   ]
  },
  {
   "cell_type": "markdown",
   "id": "9a5a295f",
   "metadata": {},
   "source": [
    "### Поліморфізм\n",
    "\n",
    "Все дуже просто - нам навіть не потрібно, щоб класи були спадкоємцями одного і того ж самого класу (хоча так звісно краще). Головне - щоб був єдиний інтерфейс"
   ]
  },
  {
   "cell_type": "code",
   "execution_count": 164,
   "id": "6707afed",
   "metadata": {},
   "outputs": [
    {
     "name": "stdout",
     "output_type": "stream",
     "text": [
      "Hola a los todos\n",
      "Усім привіт\n"
     ]
    }
   ],
   "source": [
    "class Spanish:\n",
    "    def greet(self):\n",
    "        print(\"Hola a los todos\")\n",
    "\n",
    "\n",
    "class Ukrainian:\n",
    "    def greet(self):\n",
    "        print(\"Усім привіт\")\n",
    "        \n",
    "        \n",
    "def greeter(obj_that_greets):\n",
    "    obj_that_greets.greet()\n",
    "\n",
    "\n",
    "greeter(Spanish())\n",
    "greeter(Ukrainian())"
   ]
  },
  {
   "cell_type": "markdown",
   "id": "9c46f645",
   "metadata": {},
   "source": [
    "### Магічні методи\n",
    "\n",
    "Магічні методи - це вбудовані методи, за допомогою яких ми можемо визначити поведінку об'єктів Python з вбудованим функціоналом, змінити спосіб їх зберігання у пам'яті та багато іншого.\n",
    "\n",
    "Наприклад, ми вже побачили вбудований метод `__init__`, який ініціалізує об'єкт.\n",
    "Давайте ж подивимось на інші магічні методи, яких насправді дуже багато"
   ]
  },
  {
   "cell_type": "code",
   "execution_count": 114,
   "id": "3b93f29e",
   "metadata": {},
   "outputs": [],
   "source": [
    "class MagicClass:\n",
    "    def __init__(self, value: int):\n",
    "        self.value = value\n",
    "\n",
    "    def __gt__(self, other) -> bool:  # перевизначили поведінку з оператором \">\"\n",
    "        return self.value > other.value\n",
    "\n",
    "    def __add__(self, other) -> bool:  # перевизначили поведінку з оператором \"<=\"\n",
    "        return self.value + other.value\n",
    "\n",
    "    def __str__(self) -> str:  # поведінка як строка\n",
    "        return f\"i am object of class {self.__class__.__name__} with value {self.value}\""
   ]
  },
  {
   "cell_type": "code",
   "execution_count": 115,
   "id": "33627db4",
   "metadata": {},
   "outputs": [
    {
     "data": {
      "text/plain": [
       "True"
      ]
     },
     "execution_count": 115,
     "metadata": {},
     "output_type": "execute_result"
    }
   ],
   "source": [
    "magic_object = MagicClass(5)\n",
    "one_more = MagicClass(3)\n",
    "\n",
    "magic_object > one_more  # еквівалентно magic_object.__gt__(one_more)"
   ]
  },
  {
   "cell_type": "code",
   "execution_count": 116,
   "id": "5d6743c8",
   "metadata": {},
   "outputs": [
    {
     "data": {
      "text/plain": [
       "8"
      ]
     },
     "execution_count": 116,
     "metadata": {},
     "output_type": "execute_result"
    }
   ],
   "source": [
    "magic_object + one_more  # __add__"
   ]
  },
  {
   "cell_type": "markdown",
   "id": "a48ab467",
   "metadata": {},
   "source": [
    "Насправді, додавання чисел так і працює, через метод `__add__`:"
   ]
  },
  {
   "cell_type": "code",
   "execution_count": 119,
   "id": "0999e634",
   "metadata": {},
   "outputs": [
    {
     "data": {
      "text/plain": [
       "8"
      ]
     },
     "execution_count": 119,
     "metadata": {},
     "output_type": "execute_result"
    }
   ],
   "source": [
    "int.__add__(3, 5)"
   ]
  },
  {
   "cell_type": "markdown",
   "id": "1e990684",
   "metadata": {},
   "source": [
    "А тепер щось цікавіше, наприклад, зробимо з нашого об'єкта ітератор:"
   ]
  },
  {
   "cell_type": "code",
   "execution_count": 121,
   "id": "5fa749fd",
   "metadata": {},
   "outputs": [],
   "source": [
    "class CustomIterator:\n",
    "    def __init__(self, limit: int):\n",
    "        self.limit = limit\n",
    "        self.counter = 0\n",
    "\n",
    "    def __iter__(self):\n",
    "        return self\n",
    "\n",
    "    def __next__(self):\n",
    "        if self.counter < self.limit:\n",
    "            self.counter += 1\n",
    "            return self.counter - 1\n",
    "        raise StopIteration  # щоб ітератор не був нескінченним"
   ]
  },
  {
   "cell_type": "code",
   "execution_count": 128,
   "id": "487cb117",
   "metadata": {},
   "outputs": [
    {
     "data": {
      "text/plain": [
       "'0, 1, 2, 3, 4'"
      ]
     },
     "execution_count": 128,
     "metadata": {},
     "output_type": "execute_result"
    }
   ],
   "source": [
    "\", \".join(map(str, list(CustomIterator(5))))"
   ]
  },
  {
   "cell_type": "markdown",
   "id": "587e9f62",
   "metadata": {},
   "source": [
    "Якщо простіше, то ось що ми зробили:"
   ]
  },
  {
   "cell_type": "code",
   "execution_count": 131,
   "id": "f7694faa",
   "metadata": {},
   "outputs": [
    {
     "data": {
      "text/plain": [
       "'0, 1, 2, 3, 4'"
      ]
     },
     "execution_count": 131,
     "metadata": {},
     "output_type": "execute_result"
    }
   ],
   "source": [
    "result_list = []\n",
    "\n",
    "for i in CustomIterator(5):\n",
    "    result_list.append(str(i))\n",
    "\n",
    "\", \".join(result_list)"
   ]
  },
  {
   "cell_type": "markdown",
   "id": "caa843fb",
   "metadata": {},
   "source": [
    "Насправді, магічних методів багато, з новими версіями також з'являються нові (наприклад для дескрипторів).  \n",
    "* `__setitem__`, `__getitem__` визначити поведінку об'єкта як словника\n",
    "* `__call__` виклик об'єкта\n",
    "* `__new__` створення об'єкта (не ініціалізаця)\n",
    "* `__del__` викликається перед видаленням об'єкта з пам'яті\n",
    "\n",
    "і багато-багато іншого"
   ]
  },
  {
   "cell_type": "markdown",
   "id": "18228225",
   "metadata": {},
   "source": [
    "### Декоратори\n",
    "\n",
    "Декоратор - це структурний патерн обєєктно-орієнтованого програмування, який дозволяє додати поведінку до об'єктів\n",
    ", помістивши їх у спеціальну обгортку. Простими словами, ми можемо виконати щось до виклику об'єкта (наприклад функції) та після."
   ]
  },
  {
   "cell_type": "markdown",
   "id": "7e1d751b",
   "metadata": {},
   "source": [
    "Level 1 (ще не декоратор)"
   ]
  },
  {
   "cell_type": "code",
   "execution_count": 134,
   "id": "bed1f9cc",
   "metadata": {},
   "outputs": [
    {
     "name": "stdout",
     "output_type": "stream",
     "text": [
      "Hola, el mundo!\n"
     ]
    }
   ],
   "source": [
    "def fun_example(some_func):\n",
    "    print(some_func())\n",
    "\n",
    "\n",
    "def hello_world():\n",
    "    return \"Hola, el mundo!\"\n",
    "\n",
    "\n",
    "fun_example(hello_world)"
   ]
  },
  {
   "cell_type": "markdown",
   "id": "38cc834d",
   "metadata": {},
   "source": [
    "Level 2 (декоруємо вручну)"
   ]
  },
  {
   "cell_type": "code",
   "execution_count": 137,
   "id": "cff44828",
   "metadata": {},
   "outputs": [],
   "source": [
    "def decor(some_func):\n",
    "    def wrap(*args, **kwargs):\n",
    "        print(\"before calling decorated func\")\n",
    "        print(some_func(*args, **kwargs))\n",
    "        print(\"after calling decorated one\")\n",
    "    return wrap\n",
    "\n",
    "\n",
    "def hello_world():\n",
    "    return \"Hola, el mundo!\""
   ]
  },
  {
   "cell_type": "code",
   "execution_count": 138,
   "id": "0e5f811d",
   "metadata": {},
   "outputs": [
    {
     "data": {
      "text/plain": [
       "<function __main__.decor.<locals>.wrap(*args, **kwargs)>"
      ]
     },
     "execution_count": 138,
     "metadata": {},
     "output_type": "execute_result"
    }
   ],
   "source": [
    "decor(hello_world)"
   ]
  },
  {
   "cell_type": "code",
   "execution_count": 139,
   "id": "e6b1434e",
   "metadata": {},
   "outputs": [
    {
     "name": "stdout",
     "output_type": "stream",
     "text": [
      "before calling decorated func\n",
      "Hola, el mundo!\n",
      "after calling decorated one\n"
     ]
    }
   ],
   "source": [
    "decor(hello_world)()"
   ]
  },
  {
   "cell_type": "markdown",
   "id": "21c7bb01",
   "metadata": {},
   "source": [
    "Level 3 (справжній декоратор)"
   ]
  },
  {
   "cell_type": "code",
   "execution_count": 142,
   "id": "09f64e3c",
   "metadata": {},
   "outputs": [
    {
     "name": "stdout",
     "output_type": "stream",
     "text": [
      "decorated func has args=(1,) and kwargs={'b': 2}\n",
      "I called this func with a=1 and b=2\n"
     ]
    }
   ],
   "source": [
    "def decor(some_func):\n",
    "    def wrap(*args, **kwargs):\n",
    "        print(f\"decorated func has {args=} and {kwargs=}\")\n",
    "        print(some_func(*args, **kwargs))\n",
    "    return wrap\n",
    "\n",
    "@decor\n",
    "def cool_func(a, b):\n",
    "    return f\"I called this func with {a=} and {b=}\"\n",
    "\n",
    "cool_func(1, b=2)"
   ]
  },
  {
   "cell_type": "markdown",
   "id": "feb8cfa1",
   "metadata": {},
   "source": [
    "Запис через `@decor` повністю дорівнює запису з Level 2, але нам не доведеться кожного разу прописувати таку конструкцію.\n",
    "\n",
    "Після введення до декораторів, давайте повернемось до класів."
   ]
  },
  {
   "cell_type": "markdown",
   "id": "25518c59",
   "metadata": {},
   "source": [
    "### Декоратори класів\n",
    "\n",
    "* `staticmethod` - для методу, який не потребує self\n",
    "* `property` - зробити метод як атрибут\n",
    "* `classmethod` - в методі з'являється доступ до класу"
   ]
  },
  {
   "cell_type": "markdown",
   "id": "8653d36c",
   "metadata": {},
   "source": [
    "#### staticmethod"
   ]
  },
  {
   "cell_type": "code",
   "execution_count": 151,
   "id": "d871a480",
   "metadata": {},
   "outputs": [
    {
     "data": {
      "text/plain": [
       "['+238923', '+7364674']"
      ]
     },
     "execution_count": 151,
     "metadata": {},
     "output_type": "execute_result"
    }
   ],
   "source": [
    "class PhoneBook:\n",
    "    def __init__(self):\n",
    "        self.phones = []\n",
    "\n",
    "    def add_phone(self, new_phone: str):\n",
    "        self.phones.append(new_phone)\n",
    "\n",
    "    @staticmethod\n",
    "    def is_phone_number(phone_to_check: str):\n",
    "        return phone_to_check.startswith(\"+\") and all(sym.isdigit() for sym in phone_to_check[1:])\n",
    "\n",
    "phone_book = PhoneBook()\n",
    "phones_to_add = [\"+238923\", \"+dbfbfs\", \"3874834\", \"+7364674\"]\n",
    "\n",
    "for phone_to_add in phones_to_add:\n",
    "    if PhoneBook.is_phone_number(phone_to_add):\n",
    "        phone_book.add_phone(phone_to_add)\n",
    "\n",
    "phone_book.phones"
   ]
  },
  {
   "cell_type": "markdown",
   "id": "a931c7f5",
   "metadata": {},
   "source": [
    "#### property"
   ]
  },
  {
   "cell_type": "markdown",
   "id": "d930ac70",
   "metadata": {},
   "source": [
    "Для наступного приклада використаємо бібліотеку `pytz` (нижче команда для встановлення)"
   ]
  },
  {
   "cell_type": "code",
   "execution_count": 148,
   "id": "1a0c01da",
   "metadata": {},
   "outputs": [
    {
     "name": "stdout",
     "output_type": "stream",
     "text": [
      "Collecting pytz\n",
      "  Using cached pytz-2022.2.1-py2.py3-none-any.whl (500 kB)\n",
      "Installing collected packages: pytz\n",
      "Successfully installed pytz-2022.2.1\n"
     ]
    }
   ],
   "source": [
    "!pip install pytz"
   ]
  },
  {
   "cell_type": "code",
   "execution_count": 157,
   "id": "a4d39390",
   "metadata": {},
   "outputs": [],
   "source": [
    "from datetime import datetime\n",
    "import pytz\n",
    "\n",
    "\n",
    "class TimeZoner:\n",
    "    def __init__(self, timezone: str):\n",
    "        self.timezone = timezone\n",
    "\n",
    "    @property\n",
    "    def tz_time(self):\n",
    "        return str(datetime.now(pytz.timezone(self.timezone)))"
   ]
  },
  {
   "cell_type": "code",
   "execution_count": 158,
   "id": "56e85f37",
   "metadata": {},
   "outputs": [
    {
     "data": {
      "text/plain": [
       "'2022-09-24 11:02:57.448350-05:00'"
      ]
     },
     "execution_count": 158,
     "metadata": {},
     "output_type": "execute_result"
    }
   ],
   "source": [
    "us_timezoner = TimeZoner(\"US/Central\")\n",
    "us_timezoner.tz_time"
   ]
  },
  {
   "cell_type": "code",
   "execution_count": 163,
   "id": "2b3bc347",
   "metadata": {},
   "outputs": [
    {
     "data": {
      "text/plain": [
       "'2022-09-24 19:04:45.005662+03:00'"
      ]
     },
     "execution_count": 163,
     "metadata": {},
     "output_type": "execute_result"
    }
   ],
   "source": [
    "TimeZoner(\"Europe/Kyiv\").tz_time"
   ]
  },
  {
   "cell_type": "markdown",
   "id": "6fcd3f33",
   "metadata": {},
   "source": [
    "#### classmethod\n",
    "\n",
    "Усю його користь, мабуть, краще показати із спадкуванням:"
   ]
  },
  {
   "cell_type": "code",
   "execution_count": 208,
   "id": "b24b449b",
   "metadata": {},
   "outputs": [],
   "source": [
    "class Rectangle:\n",
    "    default_color = \"red\"\n",
    "\n",
    "    def __init__(self, a: int, b: int, color: str):  # not plants in cs go\n",
    "        self.a = a\n",
    "        self.b = b\n",
    "        self.color = color\n",
    "\n",
    "    @classmethod\n",
    "    def batch_create(cls, rectangle_list: list) -> list:\n",
    "        print(f\"{cls.__name__} class has default color {cls.default_color}\")\n",
    "        return [cls(*params, cls.default_color) for params in rectangle_list]\n",
    "\n",
    "    def __repr__(self) -> str:  # як __str__ тільки для машинного представлення\n",
    "        return f\"a side {self.a}, b side {self.b} and color is {self.color}\"\n",
    "\n",
    "\n",
    "class Square(Rectangle):\n",
    "    default_color = \"black\"\n",
    "\n",
    "    def __init__(self, a: int, color: str):\n",
    "        super().__init__(a, a, color)\n",
    "\n",
    "    @classmethod\n",
    "    def batch_create(cls, sides_of_sqaures: list) -> list:\n",
    "        return super().batch_create(rectangle_list=[[a] for a in sides_of_sqaures])\n",
    "\n",
    "    "
   ]
  },
  {
   "cell_type": "code",
   "execution_count": 209,
   "id": "f9651f06",
   "metadata": {},
   "outputs": [
    {
     "name": "stdout",
     "output_type": "stream",
     "text": [
      "Rectangle class has default color red\n"
     ]
    },
    {
     "data": {
      "text/plain": [
       "a side 2, b side 3 and color is red"
      ]
     },
     "execution_count": 209,
     "metadata": {},
     "output_type": "execute_result"
    }
   ],
   "source": [
    "rectangles = Rectangle.batch_create([[2, 3], [4, 5], [8, 6]])\n",
    "rectangles[0]"
   ]
  },
  {
   "cell_type": "code",
   "execution_count": 210,
   "id": "35a1125c",
   "metadata": {},
   "outputs": [
    {
     "name": "stdout",
     "output_type": "stream",
     "text": [
      "Square class has default color black\n"
     ]
    },
    {
     "data": {
      "text/plain": [
       "a side 1, b side 1 and color is black"
      ]
     },
     "execution_count": 210,
     "metadata": {},
     "output_type": "execute_result"
    }
   ],
   "source": [
    "squares = Square.batch_create([1, 4, 8, 10])\n",
    "squares[0]"
   ]
  },
  {
   "cell_type": "markdown",
   "id": "6c3a040c",
   "metadata": {},
   "source": [
    "## А тепер поєднаємо з аналізом даних\n",
    "\n",
    "Але спочатку треба завантажити деякі бібліотеки"
   ]
  },
  {
   "cell_type": "markdown",
   "id": "7715f9d5",
   "metadata": {},
   "source": [
    "Бібліотека для `HTTP` запитів"
   ]
  },
  {
   "cell_type": "code",
   "execution_count": 212,
   "id": "6e8aff56",
   "metadata": {},
   "outputs": [
    {
     "name": "stdout",
     "output_type": "stream",
     "text": [
      "Requirement already satisfied: requests in ./venv/lib/python3.8/site-packages (2.28.1)\r\n",
      "Requirement already satisfied: certifi>=2017.4.17 in ./venv/lib/python3.8/site-packages (from requests) (2022.9.24)\r\n",
      "Requirement already satisfied: urllib3<1.27,>=1.21.1 in ./venv/lib/python3.8/site-packages (from requests) (1.26.12)\r\n",
      "Requirement already satisfied: charset-normalizer<3,>=2 in ./venv/lib/python3.8/site-packages (from requests) (2.1.1)\r\n",
      "Requirement already satisfied: idna<4,>=2.5 in ./venv/lib/python3.8/site-packages (from requests) (3.4)\r\n"
     ]
    }
   ],
   "source": [
    "!pip install requests"
   ]
  },
  {
   "cell_type": "markdown",
   "id": "4b6e1ddd",
   "metadata": {},
   "source": [
    "`BeautifulSoup` - це звичайний парсер `html`"
   ]
  },
  {
   "cell_type": "code",
   "execution_count": 213,
   "id": "9b08b4f6",
   "metadata": {},
   "outputs": [
    {
     "name": "stdout",
     "output_type": "stream",
     "text": [
      "Requirement already satisfied: beautifulsoup4 in ./venv/lib/python3.8/site-packages (4.11.1)\r\n",
      "Requirement already satisfied: soupsieve>1.2 in ./venv/lib/python3.8/site-packages (from beautifulsoup4) (2.3.2.post1)\r\n"
     ]
    }
   ],
   "source": [
    "!pip install beautifulsoup4"
   ]
  },
  {
   "cell_type": "markdown",
   "id": "b7a9693e",
   "metadata": {},
   "source": [
    "Відобразимо результати графіками ща допомогою наступної бібліотеки"
   ]
  },
  {
   "cell_type": "code",
   "execution_count": 243,
   "id": "00c5b915",
   "metadata": {},
   "outputs": [
    {
     "name": "stdout",
     "output_type": "stream",
     "text": [
      "Invalid -W option ignored: invalid action: '\"ignore'\n",
      "Requirement already satisfied: matplotlib in ./venv/lib/python3.8/site-packages (3.6.0)\n",
      "Requirement already satisfied: contourpy>=1.0.1 in ./venv/lib/python3.8/site-packages (from matplotlib) (1.0.5)\n",
      "Requirement already satisfied: fonttools>=4.22.0 in ./venv/lib/python3.8/site-packages (from matplotlib) (4.37.3)\n",
      "Requirement already satisfied: kiwisolver>=1.0.1 in ./venv/lib/python3.8/site-packages (from matplotlib) (1.4.4)\n",
      "Requirement already satisfied: pillow>=6.2.0 in ./venv/lib/python3.8/site-packages (from matplotlib) (9.2.0)\n",
      "Requirement already satisfied: packaging>=20.0 in ./venv/lib/python3.8/site-packages (from matplotlib) (21.3)\n",
      "Requirement already satisfied: pyparsing>=2.2.1 in ./venv/lib/python3.8/site-packages (from matplotlib) (3.0.9)\n",
      "Requirement already satisfied: python-dateutil>=2.7 in ./venv/lib/python3.8/site-packages (from matplotlib) (2.8.2)\n",
      "Requirement already satisfied: numpy>=1.19 in ./venv/lib/python3.8/site-packages (from matplotlib) (1.23.3)\n",
      "Requirement already satisfied: cycler>=0.10 in ./venv/lib/python3.8/site-packages (from matplotlib) (0.11.0)\n",
      "Requirement already satisfied: six>=1.5 in ./venv/lib/python3.8/site-packages (from python-dateutil>=2.7->matplotlib) (1.16.0)\n"
     ]
    }
   ],
   "source": [
    "!pip install matplotlib"
   ]
  },
  {
   "cell_type": "markdown",
   "id": "53d10897",
   "metadata": {},
   "source": [
    "Пропоную зробити графіки кількості html тегів на різних сторінках"
   ]
  },
  {
   "cell_type": "code",
   "execution_count": 261,
   "id": "f0f23807",
   "metadata": {},
   "outputs": [],
   "source": [
    "import requests\n",
    "from bs4 import BeautifulSoup\n",
    "from collections import defaultdict, Counter\n",
    "\n",
    "\n",
    "class Parser:\n",
    "    def __init__(self, url: str):\n",
    "        self.url = url\n",
    "        self.tag_count = defaultdict(int)\n",
    "\n",
    "    def __enter__(self):  # конструкція with\n",
    "        self._parsed_html = BeautifulSoup(requests.get(self.url, verify=False).text)\n",
    "\n",
    "    def __exit__(self, type, value, traceback):  # вихід з конструкції with\n",
    "        del self._parsed_html\n",
    "\n",
    "    def __add__(self, other) -> dict:\n",
    "        return dict(Counter(self.tag_count) + Counter(other.tag_count))\n",
    "\n",
    "    def count_tags(self):\n",
    "        for tag in self._parsed_html.find_all():\n",
    "            self.tag_count[tag.name] += 1\n",
    "\n",
    "    def order_tags(self, desc=True):\n",
    "        self.tag_count = dict(sorted(self.tag_count.items(), key=lambda i: i[1], reverse=desc))\n"
   ]
  },
  {
   "cell_type": "code",
   "execution_count": 262,
   "id": "b12407c1",
   "metadata": {},
   "outputs": [
    {
     "name": "stdout",
     "output_type": "stream",
     "text": [
      "{'a': 209, 'li': 163, 'span': 72, 'div': 48, 'ul': 28, 'meta': 24, 'p': 23, 'link': 16, 'code': 14, 'script': 11, 'h2': 10, 'time': 10, 'h1': 6, 'pre': 5, 'b': 5, 'strong': 3, 'nav': 2, 'small': 2, 'html': 1, 'head': 1, 'title': 1, 'body': 1, 'header': 1, 'img': 1, 'form': 1, 'fieldset': 1, 'label': 1, 'input': 1, 'button': 1, 'section': 1, 'blockquote': 1, 'table': 1, 'tbody': 1, 'tr': 1, 'td': 1, 'em': 1, 'footer': 1}\n",
      "hasattr(parser_of_python, \"_parsed_html\")=False\n"
     ]
    }
   ],
   "source": [
    "\n",
    "parser_of_python = Parser(\"https://www.python.org/\")\n",
    "\n",
    "with parser_of_python:\n",
    "    parser_of_python.count_tags()\n",
    "\n",
    "parser_of_python.order_tags()\n",
    "print(parser_of_python.tag_count)\n",
    "print(f'{hasattr(parser_of_python, \"_parsed_html\")=}')"
   ]
  },
  {
   "cell_type": "markdown",
   "id": "3d049e4e",
   "metadata": {},
   "source": [
    "Відобразимо тепер на графіку (8 найбільш вживаних для кращого візуального сприйняття)"
   ]
  },
  {
   "cell_type": "code",
   "execution_count": 263,
   "id": "3e9b2dcf",
   "metadata": {},
   "outputs": [
    {
     "data": {
      "image/png": "[encoded data removed]",
      "text/plain": [
       "<Figure size 640x480 with 1 Axes>"
      ]
     },
     "metadata": {},
     "output_type": "display_data"
    }
   ],
   "source": [
    "%matplotlib inline  \n",
    "import matplotlib.pyplot as plt\n",
    "\n",
    "ax1 = plt.subplot()\n",
    "labels = list(parser_of_python.tag_count.keys())[:8]\n",
    "amounts = list(parser_of_python.tag_count.values())[:8]\n",
    "\n",
    "ax1.pie(amounts, labels=labels, startangle=90, explode=[0.1] * len(labels))\n",
    "\n",
    "plt.legend(labels)\n",
    "plt.title(f\"Usage of html tags on {parser_of_python.url}\")\n",
    "plt.show()"
   ]
  },
  {
   "cell_type": "markdown",
   "id": "2b468c50",
   "metadata": {},
   "source": [
    "Тепер повторимо для іншого сайта"
   ]
  },
  {
   "cell_type": "code",
   "execution_count": 264,
   "id": "6ee0d124",
   "metadata": {},
   "outputs": [
    {
     "data": {
      "image/png": "[encoded data removed]",
      "text/plain": [
       "<Figure size 640x480 with 1 Axes>"
      ]
     },
     "metadata": {},
     "output_type": "display_data"
    }
   ],
   "source": [
    "%matplotlib inline\n",
    "\n",
    "parser_of_node = Parser(\"https://nodejs.org/en/about/\")\n",
    "\n",
    "with parser_of_node:\n",
    "    parser_of_node.count_tags()\n",
    "\n",
    "parser_of_node.order_tags()\n",
    "\n",
    "import matplotlib.pyplot as plt\n",
    "\n",
    "ax1 = plt.subplot()\n",
    "labels = list(parser_of_node.tag_count.keys())[:8]\n",
    "amounts = list(parser_of_node.tag_count.values())[:8]\n",
    "\n",
    "ax1.pie(amounts, labels=labels, startangle=90, explode=[0.1] * len(labels))\n",
    "\n",
    "plt.legend(labels)\n",
    "plt.title(f\"Usage of html tags on {parser_of_node.url}\")\n",
    "plt.show()"
   ]
  },
  {
   "cell_type": "markdown",
   "id": "2442d005",
   "metadata": {},
   "source": [
    "І на фінал, складемо значення і знову виведемо графік"
   ]
  },
  {
   "cell_type": "code",
   "execution_count": 265,
   "id": "4bbe0b5a",
   "metadata": {},
   "outputs": [
    {
     "data": {
      "image/png": "[encoded data removed]",
      "text/plain": [
       "<Figure size 640x480 with 1 Axes>"
      ]
     },
     "metadata": {},
     "output_type": "display_data"
    }
   ],
   "source": [
    "%matplotlib inline\n",
    "\n",
    "summary_of_tags = parser_of_python + parser_of_node  # __add__\n",
    "\n",
    "# Відсортуємо за зменшенням\n",
    "summary_of_tags = dict(\n",
    "    sorted(summary_of_tags.items(), key=lambda i: i[1], reverse=True)\n",
    ")\n",
    "\n",
    "plt.bar(\n",
    "    list(summary_of_tags.keys())[:10],\n",
    "    list(summary_of_tags.values())[:10],\n",
    "    tick_label=list(summary_of_tags.keys())[:10],\n",
    "    color=[\"blue\", \"yellow\"]\n",
    ")\n",
    "plt.xlabel(\"tags\")\n",
    "plt.ylabel(\"amount\")\n",
    "plt.show()"
   ]
  }
 ],
 "metadata": {
  "kernelspec": {
   "display_name": "Python 3 (ipykernel)",
   "language": "python",
   "name": "python3"
  },
  "language_info": {
   "codemirror_mode": {
    "name": "ipython",
    "version": 3
   },
   "file_extension": ".py",
   "mimetype": "text/x-python",
   "name": "python",
   "nbconvert_exporter": "python",
   "pygments_lexer": "ipython3",
   "version": "3.8.10"
  }
 },
 "nbformat": 4,
 "nbformat_minor": 5
}
